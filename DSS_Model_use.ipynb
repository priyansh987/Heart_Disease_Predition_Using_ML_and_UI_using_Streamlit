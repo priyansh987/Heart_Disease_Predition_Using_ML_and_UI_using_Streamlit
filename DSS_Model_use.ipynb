{
  "nbformat": 4,
  "nbformat_minor": 0,
  "metadata": {
    "colab": {
      "provenance": [],
      "include_colab_link": true
    },
    "kernelspec": {
      "name": "python3",
      "display_name": "Python 3"
    },
    "language_info": {
      "name": "python"
    }
  },
  "cells": [
    {
      "cell_type": "markdown",
      "metadata": {
        "id": "view-in-github",
        "colab_type": "text"
      },
      "source": [
        "<a href=\"https://colab.research.google.com/github/priyansh987/Heart_Disease_Predition_Using_ML_and_UI_using_Streamlit/blob/main/DSS_Model_use.ipynb\" target=\"_parent\"><img src=\"https://colab.research.google.com/assets/colab-badge.svg\" alt=\"Open In Colab\"/></a>"
      ]
    },
    {
      "cell_type": "code",
      "source": [
        "import pandas as pd\n",
        "import numpy as np"
      ],
      "metadata": {
        "id": "nRSnv9uVwdpU"
      },
      "execution_count": null,
      "outputs": []
    },
    {
      "cell_type": "code",
      "execution_count": null,
      "metadata": {
        "colab": {
          "base_uri": "https://localhost:8080/"
        },
        "id": "eRHWVQ9TwHCu",
        "outputId": "22487f33-b990-4471-9ec4-36598028c65e"
      },
      "outputs": [
        {
          "output_type": "stream",
          "name": "stdout",
          "text": [
            "Prediction Result: Yes\n"
          ]
        }
      ],
      "source": [
        "import joblib\n",
        "import pandas as pd\n",
        "\n",
        "# Load the trained model\n",
        "model = joblib.load('/content/svc_model.pkl')  # Replace '/content/svc_model.pkl' with the actual path to your saved model file\n",
        "\n",
        "# Function to make predictions\n",
        "def predict_heart_disease(age, sex, cp, trestbps, chol, fbs, restecg, thalach, exang, oldpeak, slope, ca, thal):\n",
        "    # Create a new numpy array with the input data\n",
        "    new_data = [[age, sex, cp, trestbps, chol, fbs, restecg, thalach, exang, oldpeak, slope, ca, thal]]\n",
        "\n",
        "    # Make predictions\n",
        "    predictions = model.predict(new_data)\n",
        "\n",
        "    # Return the predicted class (convert 0 to \"No\" and 1 to \"Yes\")\n",
        "    return \"Yes\" if predictions[0] == 1 else \"No\"\n",
        "\n",
        "# Sample input (you can replace these values with your own data to test)\n",
        "age = 61\n",
        "sex = 1\n",
        "cp = 0\n",
        "trestbps = 120\n",
        "chol = 260\n",
        "fbs = 0\n",
        "restecg = 1\n",
        "thalach = 140\n",
        "exang = 1\n",
        "oldpeak = 3.6\n",
        "slope = 1\n",
        "ca = 1\n",
        "thal = 3\n",
        "\n",
        "# 44\t1\t2\t130\t233\t0\t1\t179\t1\t0.4\t2\t0\t2\n",
        "\n",
        "# Call the function with the sample input\n",
        "result = predict_heart_disease(age, sex, cp, trestbps, chol, fbs, restecg, thalach, exang, oldpeak, slope, ca, thal)\n",
        "\n",
        "# Display the result\n",
        "print(\"Prediction Result:\", result)\n",
        "\n"
      ]
    }
  ]
}